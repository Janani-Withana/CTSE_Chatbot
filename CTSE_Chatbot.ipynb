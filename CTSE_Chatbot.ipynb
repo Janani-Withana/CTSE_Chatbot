{
  "nbformat": 4,
  "nbformat_minor": 0,
  "metadata": {
    "colab": {
      "provenance": [],
      "authorship_tag": "ABX9TyOfilcGXzKN/PzKeIbSbP2j",
      "include_colab_link": true
    },
    "kernelspec": {
      "name": "python3",
      "display_name": "Python 3"
    },
    "language_info": {
      "name": "python"
    }
  },
  "cells": [
    {
      "cell_type": "markdown",
      "metadata": {
        "id": "view-in-github",
        "colab_type": "text"
      },
      "source": [
        "<a href=\"https://colab.research.google.com/github/Janani-Withana/CTSE_Chatbot/blob/main/CTSE_Chatbot.ipynb\" target=\"_parent\"><img src=\"https://colab.research.google.com/assets/colab-badge.svg\" alt=\"Open In Colab\"/></a>"
      ]
    },
    {
      "cell_type": "code",
      "execution_count": null,
      "metadata": {
        "id": "zdWq_jkjXN0T",
        "collapsed": true
      },
      "outputs": [],
      "source": [
        "# Install dependencies\n",
        "!pip install transformers langchain langchain-community faiss-cpu sentence-transformers transformers pypdf PyPDF2"
      ]
    },
    {
      "cell_type": "code",
      "source": [
        "# Import modules\n",
        "from langchain.document_loaders import PyPDFLoader\n",
        "from langchain.text_splitter import RecursiveCharacterTextSplitter\n",
        "from langchain.vectorstores import FAISS\n",
        "from langchain.embeddings import HuggingFaceEmbeddings\n",
        "from transformers import AutoModelForCausalLM, AutoTokenizer, AutoModelForSeq2SeqLM, pipeline\n",
        "import torch\n",
        "import os"
      ],
      "metadata": {
        "id": "kn3z015AXjO4"
      },
      "execution_count": null,
      "outputs": []
    },
    {
      "cell_type": "code",
      "source": [
        "# Load the CTSE lecture notes PDF\n",
        "pdf_path = \"CTSE_Lecture_Notes.pdf\"\n",
        "loader = PyPDFLoader(pdf_path)\n",
        "documents = loader.load()"
      ],
      "metadata": {
        "id": "0yRn4PGYXk-X"
      },
      "execution_count": null,
      "outputs": []
    },
    {
      "cell_type": "code",
      "source": [
        "# Split text into chunks for embedding\n",
        "text_splitter = RecursiveCharacterTextSplitter(chunk_size=1000, chunk_overlap=200)\n",
        "docs = text_splitter.split_documents(documents)"
      ],
      "metadata": {
        "id": "kABwAiUOXm3m"
      },
      "execution_count": null,
      "outputs": []
    },
    {
      "cell_type": "code",
      "source": [
        "# Create embeddings and store in FAISS\n",
        "embeddings = HuggingFaceEmbeddings(model_name=\"all-MiniLM-L6-v2\")\n",
        "vectorstore = FAISS.from_documents(docs, embeddings)"
      ],
      "metadata": {
        "id": "clq_CbTsXo42",
        "collapsed": true
      },
      "execution_count": null,
      "outputs": []
    },
    {
      "cell_type": "code",
      "source": [
        "# Initialize FLAN-T5 and setup RAG pipeline\n",
        "model_name = \"google/flan-t5-base\"\n",
        "tokenizer = AutoTokenizer.from_pretrained(model_name)\n",
        "model = AutoModelForSeq2SeqLM.from_pretrained(model_name).to(\"cuda\" if torch.cuda.is_available() else \"cpu\")\n",
        "\n",
        "rag_pipeline = pipeline(\n",
        "    task=\"text2text-generation\",\n",
        "    model=model,\n",
        "    tokenizer=tokenizer,\n",
        ")"
      ],
      "metadata": {
        "id": "99yCbrRdXqr-",
        "collapsed": true
      },
      "execution_count": null,
      "outputs": []
    },
    {
      "cell_type": "code",
      "source": [
        "# Generate Response\n",
        "def CTSE_Chatbot(question, top_k=4):\n",
        "    results = vectorstore.similarity_search(question, k=top_k)\n",
        "    context = \"\\n\\n\".join([doc.page_content for doc in results])\n",
        "\n",
        "    #print(\"context\", context)\n",
        "\n",
        "    prompt = f\"\"\"\n",
        "You are a knowledgeable assistant. Analyze the academic content below and generate a comprehensive, structured, and insightful answer\n",
        "to the question as if you're helping a university student understand the topic deeply. Your response should include:\n",
        "\n",
        "- A clear and descriptive title\n",
        "- An introductory paragraph summarizing the concept\n",
        "- Well-structured sections with subheadings\n",
        "- Bullet points or numbered lists to organize key ideas\n",
        "- In-depth elaboration of technical concepts with examples\n",
        "- Additional context or real-world relevance where useful\n",
        "\n",
        "### Context:\n",
        "{context}\n",
        "\n",
        "### Question:\n",
        "{question}\n",
        "\n",
        "### Answer:\n",
        "\"\"\"\n",
        "    answer = rag_pipeline(prompt, max_length=1024, do_sample=False)[0]['generated_text']\n",
        "\n",
        "    return f\"{answer}\""
      ],
      "metadata": {
        "id": "TOM66K8tXsfG"
      },
      "execution_count": null,
      "outputs": []
    },
    {
      "cell_type": "code",
      "source": [
        "# # Format Response\n",
        "# def format_answer(raw_answer: str) -> str:\n",
        "#     formatted_output = \"\"\n",
        "#     i = 0\n",
        "#     length = len(raw_answer)\n",
        "\n",
        "#     while i < length:\n",
        "#         char = raw_answer[i]\n",
        "\n",
        "#         # If dash or period found, start new line with it\n",
        "#         if char == '-' or char == '•':\n",
        "#             # Only add newline if not already at a new line\n",
        "#             if not formatted_output.endswith('\\n'):\n",
        "#                 formatted_output += '\\n'\n",
        "#             formatted_output += char\n",
        "#             i += 1\n",
        "#         else:\n",
        "#             formatted_output += char\n",
        "#             i += 1\n",
        "\n",
        "#     # Clean up extra spaces or newlines\n",
        "#     lines = formatted_output.splitlines()\n",
        "#     cleaned_lines = [line.strip() for line in lines if line.strip()]\n",
        "#     return '\\n'.join(cleaned_lines)"
      ],
      "metadata": {
        "id": "M7u1eZOYXvAv"
      },
      "execution_count": null,
      "outputs": []
    },
    {
      "cell_type": "code",
      "source": [
        "# Example\n",
        "question = \"what is a docker image\"\n",
        "response = CTSE_Chatbot(question)\n",
        "\n",
        "print(\"Question:\", question + \"\\n\")\n",
        "#print(\"Formatted Answer:\", \"\\n\" + format_answer(response))\n",
        "print(\"Answer:\", response)"
      ],
      "metadata": {
        "id": "sS4NFpIWXxjH"
      },
      "execution_count": null,
      "outputs": []
    }
  ]
}