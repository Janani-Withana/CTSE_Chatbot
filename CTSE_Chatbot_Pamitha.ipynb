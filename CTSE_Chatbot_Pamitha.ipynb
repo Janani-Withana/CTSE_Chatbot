{
  "nbformat": 4,
  "nbformat_minor": 0,
  "metadata": {
    "colab": {
      "provenance": [],
      "gpuType": "T4",
      "include_colab_link": true
    },
    "kernelspec": {
      "name": "python3",
      "display_name": "Python 3"
    },
    "language_info": {
      "name": "python"
    },
    "accelerator": "GPU"
  },
  "cells": [
    {
      "cell_type": "markdown",
      "metadata": {
        "id": "view-in-github",
        "colab_type": "text"
      },
      "source": [
        "<a href=\"https://colab.research.google.com/github/Janani-Withana/CTSE_Chatbot/blob/main/CTSE_Chatbot_Pamitha.ipynb\" target=\"_parent\"><img src=\"https://colab.research.google.com/assets/colab-badge.svg\" alt=\"Open In Colab\"/></a>"
      ]
    },
    {
      "cell_type": "code",
      "execution_count": null,
      "metadata": {
        "collapsed": true,
        "id": "aCsV9ahzHeGz"
      },
      "outputs": [],
      "source": [
        "!pip install -q langchain langchain-community openai chromadb unstructured pdfminer.six tiktoken faiss-cpu PyPDF2 transformers accelerate"
      ]
    },
    {
      "cell_type": "code",
      "source": [
        "from langchain.vectorstores import Chroma\n",
        "from langchain.document_loaders import PyPDFLoader, UnstructuredFileLoader\n",
        "from langchain.embeddings import HuggingFaceEmbeddings\n",
        "from langchain.llms import HuggingFacePipeline\n",
        "from langchain.text_splitter import RecursiveCharacterTextSplitter\n",
        "from langchain.chains import RetrievalQA\n",
        "from transformers import pipeline, AutoModelForCausalLM, AutoTokenizer\n",
        "import torch\n",
        "import os"
      ],
      "metadata": {
        "id": "CYu1PV4LYs-s"
      },
      "execution_count": null,
      "outputs": []
    },
    {
      "cell_type": "code",
      "source": [
        "uploaded = files.upload()"
      ],
      "metadata": {
        "id": "YH3JmhyFJRro"
      },
      "execution_count": null,
      "outputs": []
    },
    {
      "cell_type": "code",
      "source": [
        "#pdf_path = next(iter(uploaded))  # Gets the filename\n",
        "pdf_path = \"CTSE_Lecture_Notes.pdf\"\n",
        "loader = PyPDFLoader(pdf_path)\n",
        "docs = loader.load()\n",
        "\n",
        "# Add metadata\n",
        "for doc in docs:\n",
        "    doc.metadata[\"source\"] = pdf_path\n"
      ],
      "metadata": {
        "collapsed": true,
        "id": "jqZCboR6Ler4"
      },
      "execution_count": null,
      "outputs": []
    },
    {
      "cell_type": "code",
      "source": [
        "text_splitter = RecursiveCharacterTextSplitter(\n",
        "    # Use 'separators' instead of 'separator'\n",
        "    chunk_size=3000,\n",
        "    chunk_overlap=200\n",
        ")\n",
        "\n",
        "chunks = text_splitter.split_documents(docs)\n",
        "print(f\"Total chunks: {len(chunks)}\")\n"
      ],
      "metadata": {
        "id": "OJstHPOeLqve"
      },
      "execution_count": null,
      "outputs": []
    },
    {
      "cell_type": "code",
      "source": [
        "embedding = HuggingFaceEmbeddings(model_name=\"sentence-transformers/all-MiniLM-L6-v2\", model_kwargs={\"device\": \"cpu\"})\n",
        "vectorstore = Chroma.from_documents(chunks, embedding, persist_directory=\"ctse_index\")\n",
        "vectorstore.persist()"
      ],
      "metadata": {
        "id": "gzaC0NJoLz2d",
        "collapsed": true
      },
      "execution_count": null,
      "outputs": []
    },
    {
      "cell_type": "code",
      "source": [
        "# Initialize GPT-2 and setup text generation pipeline\n",
        "model_name = \"gpt2\"\n",
        "device = \"cpu\"\n",
        "tokenizer = AutoTokenizer.from_pretrained(model_name)\n",
        "model = AutoModelForCausalLM.from_pretrained(model_name).to(device)\n",
        "\n",
        "# Ensure GPT-2 uses padding token if missing\n",
        "tokenizer.pad_token = tokenizer.eos_token\n",
        "model.config.pad_token_id = tokenizer.eos_token_id"
      ],
      "metadata": {
        "id": "nPqe0a-Ys0kf"
      },
      "execution_count": null,
      "outputs": []
    },
    {
      "cell_type": "code",
      "source": [
        "# Load QA-capable model using GPT2\n",
        "qa_pipeline = pipeline(\n",
        "    \"text-generation\",\n",
        "    model=model,\n",
        "    tokenizer=tokenizer,\n",
        "    device=-1,\n",
        "    max_new_tokens=200,\n",
        "    do_sample=False,\n",
        "    temperature=0.7\n",
        ")\n",
        "\n",
        "llm = HuggingFacePipeline(pipeline=qa_pipeline)"
      ],
      "metadata": {
        "id": "s1aP0XhcTwAC",
        "collapsed": true
      },
      "execution_count": null,
      "outputs": []
    },
    {
      "cell_type": "code",
      "source": [
        "retriever = vectorstore.as_retriever(search_type=\"mmr\", search_kwargs={\"k\": 4})\n",
        "\n",
        "qa_chain = RetrievalQA.from_chain_type(\n",
        "    llm=llm,\n",
        "    retriever=retriever,\n",
        "    return_source_documents=True,\n",
        "    chain_type=\"stuff\"\n",
        ")\n"
      ],
      "metadata": {
        "id": "G-YPpwGKT4qb"
      },
      "execution_count": null,
      "outputs": []
    },
    {
      "cell_type": "code",
      "source": [
        "query = \"What is the difference between microservices and monoliths?\"\n",
        "response = qa_chain.invoke({\"query\": query})\n",
        "print(\"Answer:\\n\", response[\"result\"])\n"
      ],
      "metadata": {
        "id": "T1X_OM_EVA7U",
        "collapsed": true
      },
      "execution_count": null,
      "outputs": []
    }
  ]
}