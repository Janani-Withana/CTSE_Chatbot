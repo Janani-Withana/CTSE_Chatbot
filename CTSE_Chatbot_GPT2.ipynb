{
  "nbformat": 4,
  "nbformat_minor": 0,
  "metadata": {
    "colab": {
      "provenance": [],
      "gpuType": "T4",
      "authorship_tag": "ABX9TyORqeFw98o1gqKG/h94Ay+q",
      "include_colab_link": true
    },
    "kernelspec": {
      "name": "python3",
      "display_name": "Python 3"
    },
    "language_info": {
      "name": "python"
    },
    "accelerator": "GPU"
  },
  "cells": [
    {
      "cell_type": "markdown",
      "metadata": {
        "id": "view-in-github",
        "colab_type": "text"
      },
      "source": [
        "<a href=\"https://colab.research.google.com/github/Janani-Withana/CTSE_Chatbot/blob/main/CTSE_Chatbot_GPT2.ipynb\" target=\"_parent\"><img src=\"https://colab.research.google.com/assets/colab-badge.svg\" alt=\"Open In Colab\"/></a>"
      ]
    },
    {
      "cell_type": "code",
      "execution_count": null,
      "metadata": {
        "collapsed": true,
        "id": "TV2qCfS-dejp"
      },
      "outputs": [],
      "source": [
        "# Install dependencies\n",
        "!pip install transformers langchain langchain-community faiss-cpu sentence-transformers pypdf PyPDF2 langchain-huggingface"
      ]
    },
    {
      "cell_type": "code",
      "source": [
        "# Import modules\n",
        "from langchain.document_loaders import PyPDFLoader\n",
        "from langchain.text_splitter import RecursiveCharacterTextSplitter\n",
        "from langchain.vectorstores import FAISS\n",
        "from langchain_huggingface import HuggingFaceEmbeddings\n",
        "from transformers import AutoModelForCausalLM, AutoTokenizer, pipeline\n",
        "import torch\n",
        "import os"
      ],
      "metadata": {
        "id": "_O0CA7gJfhk_"
      },
      "execution_count": null,
      "outputs": []
    },
    {
      "cell_type": "code",
      "source": [
        "# Load the CTSE lecture notes PDF\n",
        "pdf_path = \"CTSE_Lecture_Notes.pdf\"\n",
        "loader = PyPDFLoader(pdf_path)\n",
        "documents = loader.load()"
      ],
      "metadata": {
        "id": "DEQCTsxcfjGW"
      },
      "execution_count": null,
      "outputs": []
    },
    {
      "cell_type": "code",
      "source": [
        "# Split text into chunks for embedding\n",
        "text_splitter = RecursiveCharacterTextSplitter(chunk_size=1000, chunk_overlap=200)\n",
        "docs = text_splitter.split_documents(documents)"
      ],
      "metadata": {
        "id": "85kbV0pJfuOY"
      },
      "execution_count": null,
      "outputs": []
    },
    {
      "cell_type": "code",
      "source": [
        "# Create embeddings and store in FAISS\n",
        "embeddings = HuggingFaceEmbeddings(model_name=\"sentence-transformers/all-MiniLM-L6-v2\")\n",
        "vectorstore = FAISS.from_documents(docs, embeddings)"
      ],
      "metadata": {
        "id": "3rSQj0ekfvFW",
        "collapsed": true
      },
      "execution_count": null,
      "outputs": []
    },
    {
      "cell_type": "code",
      "source": [
        "# Initialize GPT-2 and setup text generation pipeline\n",
        "model_name = \"gpt2\"\n",
        "tokenizer = AutoTokenizer.from_pretrained(model_name)\n",
        "model = AutoModelForCausalLM.from_pretrained(model_name).to(\"cuda\" if torch.cuda.is_available() else \"cpu\")"
      ],
      "metadata": {
        "id": "LhXnZXdgf1w2",
        "collapsed": true
      },
      "execution_count": null,
      "outputs": []
    },
    {
      "cell_type": "code",
      "source": [
        "# Ensure GPT-2 uses padding token if missing\n",
        "tokenizer.pad_token = tokenizer.eos_token\n",
        "model.config.pad_token_id = tokenizer.eos_token_id\n",
        "\n",
        "generation_pipeline = pipeline(\n",
        "    task=\"text-generation\",\n",
        "    model=model,\n",
        "    tokenizer=tokenizer,\n",
        "    max_new_tokens=128,\n",
        "    do_sample=True,\n",
        "    top_p=0.9,\n",
        "    temperature=0.7,\n",
        "    device=0 if torch.cuda.is_available() else -1,\n",
        "    truncation=True\n",
        ")\n",
        "\n",
        "#llm = HuggingFacePipeline(pipeline=generation_pipeline)"
      ],
      "metadata": {
        "id": "BljxXjEFf5Z1"
      },
      "execution_count": null,
      "outputs": []
    },
    {
      "cell_type": "code",
      "source": [
        "# Generate Response\n",
        "def CTSE_Chatbot(question, top_k=5, max_new_tokens=128):\n",
        "    results = vectorstore.similarity_search(question, k=top_k)\n",
        "    context = \"\\n\\n\".join([doc.page_content for doc in results])\n",
        "\n",
        "    prompt = f\"\"\"\n",
        "Context:\n",
        "{context}\n",
        "\n",
        "Question:\n",
        "{question}\n",
        "\n",
        "Answer:\n",
        "\"\"\"\n",
        "\n",
        "    #print(\"Prompt before sending to GPU:\", prompt)\n",
        "    response = generation_pipeline(prompt, max_new_tokens=max_new_tokens, do_sample=True, top_p=0.9, temperature=0.7)[0]['generated_text']\n",
        "\n",
        "    # Extract only the answer part (everything after 'Answer:')\n",
        "    if \"Answer:\" in response:\n",
        "        return response.split(\"Answer:\")[-1].strip()\n",
        "    else:\n",
        "        return response.strip()"
      ],
      "metadata": {
        "id": "uK60kVh3f8kP"
      },
      "execution_count": null,
      "outputs": []
    },
    {
      "cell_type": "code",
      "source": [
        "# Example\n",
        "question = \"what are the benifits of Monolithic Architecture\"\n",
        "response = CTSE_Chatbot(question)\n",
        "\n",
        "print(\"Question:\", question + \"\\n\")\n",
        "print(\"Answer:\", response)"
      ],
      "metadata": {
        "id": "pbiLRl3wgArf"
      },
      "execution_count": null,
      "outputs": []
    }
  ]
}